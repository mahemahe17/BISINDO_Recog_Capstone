{
 "cells": [
  {
   "cell_type": "code",
   "execution_count": null,
   "id": "f864c0a9-d9a9-42ad-9715-544c6616fa20",
   "metadata": {},
   "outputs": [],
   "source": [
    "import cv2\n",
    "import time\n",
    "import numpy as np\n",
    "import os\n",
    "import mediapipe as mp\n",
    "import time\n",
    "import tensorflow as tf\n",
    "from collections import deque\n",
    "import pyttsx3"
   ]
  },
  {
   "cell_type": "code",
   "execution_count": null,
   "id": "45967593-6175-463e-809a-02a7fb8daa88",
   "metadata": {},
   "outputs": [],
   "source": [
    "STATIC_LABELS = ['A', 'B', 'C', 'D', 'E', 'F', 'G', 'H', 'I', \n",
    "                 'J', 'K', 'L', 'M', 'N', 'O', 'P', 'Q', 'R', \n",
    "                 'S', 'T', 'U', 'V', 'W', 'X', 'Y', 'Z']\n",
    "DYNAMIC_LABELS = ['AKU', 'HALO', 'APA', 'KABAR', 'KAMU', 'NAMA', 'PERKENALKAN', \n",
    "                  'SIAPA', 'TERIMA KASIH', 'TOLONG', 'SALAM KENAL', 'MAAF', \n",
    "                  'BERASAL', 'DARI', 'MANA', 'SAMA-SAMA', 'YA', 'TIDAK', 'JAKARTA']"
   ]
  },
  {
   "cell_type": "code",
   "execution_count": null,
   "id": "53877aed-0eb9-421a-a0f2-f09e52817316",
   "metadata": {},
   "outputs": [],
   "source": [
    "mp_holistic = mp.solutions.holistic\n",
    "mp_drawing = mp.solutions.drawing_utils"
   ]
  },
  {
   "cell_type": "code",
   "execution_count": null,
   "id": "47eade1b-5346-411b-bf55-4999ebfdd007",
   "metadata": {},
   "outputs": [],
   "source": [
    "def extract_keypoints(results, include_pose=True):\n",
    "    pose = [[res.x, res.y] for res in results.pose_landmarks.landmark] if results.pose_landmarks else [[0, 0]] * 33\n",
    "    lh = [[res.x, res.y] for res in results.left_hand_landmarks.landmark] if results.left_hand_landmarks else [[0, 0]] * 21\n",
    "    rh = [[res.x, res.y] for res in results.right_hand_landmarks.landmark] if results.right_hand_landmarks else [[0, 0]] * 21\n",
    "\n",
    "    if include_pose:\n",
    "        return np.array(pose + lh + rh).flatten()\n",
    "    else:\n",
    "        return np.array(lh + rh).flatten()"
   ]
  },
  {
   "cell_type": "code",
   "execution_count": null,
   "id": "20857adc-4d84-4812-9f24-18fa3fdd010f",
   "metadata": {},
   "outputs": [],
   "source": [
    "def mediapipe_detection(image, model):\n",
    "    image = cv2.cvtColor(frame, cv2.COLOR_BGR2RGB)\n",
    "    image.flags.writeable = False\n",
    "    results = holistic.process(image)\n",
    "    image.flags.writeable = True\n",
    "    image = cv2.cvtColor(image, cv2.COLOR_RGB2BGR)\n",
    "    return image, results"
   ]
  },
  {
   "cell_type": "code",
   "execution_count": null,
   "id": "957860e1-559a-4e01-87b5-5b2223b6ec8f",
   "metadata": {},
   "outputs": [],
   "source": [
    "def draw_landmarks(image, results, include_pose=True):\n",
    "    mp_drawing.draw_landmarks(image, results.left_hand_landmarks, mp_holistic.HAND_CONNECTIONS)\n",
    "    mp_drawing.draw_landmarks(image, results.right_hand_landmarks, mp_holistic.HAND_CONNECTIONS)\n",
    "\n",
    "    if include_pose:\n",
    "        mp_drawing.draw_landmarks(image, results.pose_landmarks, mp_holistic.POSE_CONNECTIONS)"
   ]
  },
  {
   "cell_type": "code",
   "execution_count": null,
   "id": "23e3a286-3ba1-4c1c-94db-e1836d7f3d53",
   "metadata": {},
   "outputs": [],
   "source": [
    "def normalize_keypoints(keypoints):\n",
    "    keypoints = np.array(keypoints).reshape(-1, 2)\n",
    "    min_val = keypoints.min(axis=0)\n",
    "    max_val = keypoints.max(axis=0)\n",
    "    range_val = np.where((max_val - min_val) == 0, 1, (max_val - min_val))\n",
    "    normed = (keypoints - min_val) / range_val\n",
    "    return normed.flatten()"
   ]
  },
  {
   "cell_type": "code",
   "execution_count": null,
   "id": "55c563b6-5054-4653-bbdf-a948b1df05af",
   "metadata": {},
   "outputs": [],
   "source": [
    "def speak(text):\n",
    "    engine = pyttsx3.init()\n",
    "    engine.say(text)\n",
    "    engine.runAndWait()"
   ]
  },
  {
   "cell_type": "code",
   "execution_count": null,
   "id": "081e7a7a-75b5-4404-9ac9-a304e97d86ca",
   "metadata": {},
   "outputs": [],
   "source": [
    "def compute_movement(curr, prev):\n",
    "    if prev is None:\n",
    "        return 0.0\n",
    "    return np.linalg.norm(curr - prev)"
   ]
  },
  {
   "cell_type": "code",
   "execution_count": null,
   "id": "be831112-eaf8-4a25-92d4-e1933a4e6c8c",
   "metadata": {},
   "outputs": [],
   "source": [
    "model_static = tf.keras.models.load_model(\"static_model.h5\")\n",
    "model_dynamic = tf.keras.models.load_model(\"high_dynamic_model.h5\")"
   ]
  },
  {
   "cell_type": "code",
   "execution_count": null,
   "id": "73de0cf6-85eb-4ef7-8e75-646459e46329",
   "metadata": {},
   "outputs": [],
   "source": [
    "SEQUENCE_LENGTH = 30\n",
    "MOVEMENT_THRESHOLD = 0.04\n",
    "CONFIDENCE_THRESHOLD = 0.9\n",
    "silence_timeout = 2.0"
   ]
  }
 ],
 "metadata": {
  "kernelspec": {
   "display_name": "Python 3 (ipykernel)",
   "language": "python",
   "name": "python3"
  },
  "language_info": {
   "codemirror_mode": {
    "name": "ipython",
    "version": 3
   },
   "file_extension": ".py",
   "mimetype": "text/x-python",
   "name": "python",
   "nbconvert_exporter": "python",
   "pygments_lexer": "ipython3",
   "version": "3.12.7"
  }
 },
 "nbformat": 4,
 "nbformat_minor": 5
}
